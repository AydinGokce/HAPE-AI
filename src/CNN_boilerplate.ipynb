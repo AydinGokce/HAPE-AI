{
 "cells": [
  {
   "cell_type": "code",
   "execution_count": 1,
   "metadata": {},
   "outputs": [
    {
     "name": "stdout",
     "output_type": "stream",
     "text": [
      "Device: cuda\n"
     ]
    }
   ],
   "source": [
    "import torch\n",
    "import torchvision\n",
    "from torch.utils.data import DataLoader, Dataset\n",
    "from torch import nn\n",
    "from torch.nn import functional as F\n",
    "\n",
    "import numpy as np\n",
    "import pandas as pd\n",
    "from matplotlib import pyplot as plt\n",
    "\n",
    "DEVICE = torch.device('cuda') if torch.cuda.is_available() else 'cpu'\n",
    "print(f\"Device: {DEVICE}\")\n",
    "\n",
    "train_dir = \"../dev-data/train.csv\"\n",
    "X_train = pd.read_csv(train_dir).drop('label', axis = 1)\n",
    "y_train = pd.read_csv(train_dir)['label']"
   ]
  },
  {
   "cell_type": "code",
   "execution_count": 2,
   "metadata": {},
   "outputs": [],
   "source": [
    "def pixel_row_to_array(row):\n",
    "    return row.to_numpy().reshape(28, 28)"
   ]
  },
  {
   "cell_type": "code",
   "execution_count": 7,
   "metadata": {},
   "outputs": [
    {
     "data": {
      "text/plain": [
       "<matplotlib.image.AxesImage at 0x7ff698bcb880>"
      ]
     },
     "execution_count": 7,
     "metadata": {},
     "output_type": "execute_result"
    },
    {
     "data": {
      "image/png": "[encoded data removed]",
      "text/plain": [
       "<Figure size 432x288 with 1 Axes>"
      ]
     },
     "metadata": {
      "needs_background": "light"
     },
     "output_type": "display_data"
    }
   ],
   "source": [
    "sample = X_train.iloc[10000]\n",
    "arr = pixel_row_to_array(sample)\n",
    "plt.imshow(arr)"
   ]
  },
  {
   "cell_type": "code",
   "execution_count": 14,
   "metadata": {},
   "outputs": [],
   "source": [
    "def pixel_row_to_array(row):\n",
    "    return row.to_numpy().reshape(28, 28)\n",
    "\n",
    "class MNISTDataset(Dataset):\n",
    "    \n",
    "    #takes in df of images and labels\n",
    "    def __init__(self, df, labels = None, train = None, train_test_ratio = 0.1):\n",
    "        \n",
    "        self.df = df\n",
    "        self.train = train\n",
    "        self.labels = labels\n",
    "        \n",
    "        num_samples = len(self.df.index)\n",
    "        split_index = int(num_samples * train_test_ratio)\n",
    "        \n",
    "        \n",
    "        if self.train == True:\n",
    "            self.df = self.df.iloc[split_index:]\n",
    "            self.labels = self.labels.iloc[split_index:]\n",
    "            \n",
    "        elif self.train == False:\n",
    "            self.df = self.df.iloc[:split_index]\n",
    "            self.labels = self.labels.iloc[:split_index]\n",
    "        \n",
    "    def __len__(self):\n",
    "        return len(self.df.index)\n",
    "        \n",
    "    def __getitem__(self, index):\n",
    "        row = self.df.iloc[index]\n",
    "        image = pixel_row_to_array(row)\n",
    "        image = torch.from_numpy(image)\n",
    "        image = image.unsqueeze(0)\n",
    "        \n",
    "        label = 0\n",
    "        \n",
    "        if self.labels is not None:\n",
    "            label = self.labels.iloc[index]\n",
    "        \n",
    "        return image, label\n"
   ]
  },
  {
   "cell_type": "code",
   "execution_count": 15,
   "metadata": {},
   "outputs": [],
   "source": [
    "train_dataset = MNISTDataset(X_train, labels = y_train, train = True)\n",
    "valid_dataset = MNISTDataset(X_train, labels = y_train, train = False)\n",
    "\n",
    "train_dataloader = DataLoader(train_dataset, shuffle = True, batch_size = 4)\n",
    "valid_dataloader = DataLoader(valid_dataset, shuffle = True, batch_size = 4)"
   ]
  },
  {
   "cell_type": "code",
   "execution_count": 23,
   "metadata": {},
   "outputs": [],
   "source": [
    "class LeNet5(nn.Module):\n",
    "    def __init__(self, num_classes = 10):\n",
    "        super().__init__()\n",
    "        \n",
    "        self.convlayers = nn.Sequential(\n",
    "            nn.Conv2d(in_channels = 1, out_channels = 6, kernel_size = 5, stride = 1),\n",
    "            nn.Tanh(),\n",
    "            nn.AvgPool2d(kernel_size = 2),\n",
    "            nn.Conv2d(in_channels = 6, out_channels = 16, kernel_size = 3, stride = 1),\n",
    "            nn.Tanh(),\n",
    "            nn.AvgPool2d(kernel_size = 2),\n",
    "            nn.Conv2d(in_channels = 16, out_channels = 120, kernel_size = 3, stride = 1),\n",
    "            nn.Tanh(),\n",
    "        )\n",
    "        \n",
    "        self.linearlayers = nn.Sequential(\n",
    "            nn.Linear(in_features = 1080, out_features = 84),\n",
    "            nn.Tanh(),\n",
    "            nn.Linear(in_features = 84, out_features = num_classes)\n",
    "        )\n",
    "        \n",
    "    def forward(self, x):\n",
    "        x = self.convlayers(x)\n",
    "        x = torch.flatten(x, 1)\n",
    "        logits = self.linearlayers(x)\n",
    "        probs = F.softmax(logits, dim = 1)\n",
    "        return logits, probs\n",
    "        "
   ]
  },
  {
   "cell_type": "code",
   "execution_count": 28,
   "metadata": {},
   "outputs": [],
   "source": [
    "def train(model, train_loader, optimizer, criterion, device):\n",
    "    \n",
    "    running_loss = 0.0\n",
    "    model.train()\n",
    "    \n",
    "    for X, y in train_loader:\n",
    "        optimizer.zero_grad()\n",
    "        \n",
    "        X = X.to(device)\n",
    "        y = y.to(device)\n",
    "        \n",
    "        outputs, _ = model(X.float())\n",
    "        loss = criterion(outputs, y)\n",
    "        loss_item = loss.item()\n",
    "        \n",
    "        running_loss += loss_item* X.shape[0]\n",
    "        \n",
    "        loss.backward()\n",
    "        optimizer.step()\n",
    "        \n",
    "    epoch_loss = running_loss / len(train_loader.dataset)\n",
    "    return model, optimizer, epoch_loss\n",
    "\n",
    "def validate(model, valid_loader, criterion, device):\n",
    "    running_loss = 0.0\n",
    "    model.eval()\n",
    "    \n",
    "    for X, y in valid_loader:\n",
    "        X = X.to(device)\n",
    "        y = y.to(device)\n",
    "        \n",
    "        outputs, _ = model(X.float())\n",
    "        loss = criterion(outputs, y)\n",
    "        running_loss += loss.item() * X.shape[0]\n",
    "        \n",
    "    epoch_loss = running_loss / len(valid_loader.dataset)\n",
    "    return model, epoch_loss\n",
    "    \n",
    "    "
   ]
  },
  {
   "cell_type": "code",
   "execution_count": 26,
   "metadata": {},
   "outputs": [],
   "source": [
    "def training_loop(model, optimizer, criterion, num_epochs, device, train_loader, valid_loader, print_every = 1):\n",
    "    \n",
    "    train_losses = []\n",
    "    valid_losses = []\n",
    "    \n",
    "    for epoch in range(num_epochs):\n",
    "        \n",
    "        model, optimizer, train_loss = train(model, train_loader, optimizer, criterion, device)\n",
    "        \n",
    "        model, valid_loss = validate(model, valid_loader, criterion, device)\n",
    "        \n",
    "        print(f\"completed_epoch {epoch}\")\n",
    "        \n",
    "        train_losses.append(train_loss)\n",
    "        valid_losses.append(valid_loss)\n",
    "        \n",
    "    return model, optimizer, train_losses, valid_losses"
   ]
  },
  {
   "cell_type": "code",
   "execution_count": 29,
   "metadata": {},
   "outputs": [
    {
     "name": "stdout",
     "output_type": "stream",
     "text": [
      "completed_epoch 0\n",
      "completed_epoch 1\n",
      "completed_epoch 2\n",
      "completed_epoch 3\n",
      "completed_epoch 4\n",
      "completed_epoch 5\n",
      "completed_epoch 6\n",
      "completed_epoch 7\n"
     ]
    }
   ],
   "source": [
    "model = LeNet5().to(DEVICE)\n",
    "learning_rate = 0.001\n",
    "optimizer = torch.optim.Adam(model.parameters(), lr = learning_rate)\n",
    "num_epochs = 8\n",
    "criterion = nn.CrossEntropyLoss()\n",
    "\n",
    "\n",
    "model, optimizer, train_losses, valid_losses = training_loop(model, optimizer, criterion, num_epochs, DEVICE, train_dataloader, valid_dataloader)"
   ]
  },
  {
   "cell_type": "code",
   "execution_count": 31,
   "metadata": {},
   "outputs": [],
   "source": [
    "def get_accuracy(model, test_loader, device):\n",
    "    correct_preds = 0\n",
    "    total_preds = 1\n",
    "    \n",
    "    for X, y_true in test_loader:\n",
    "        X = X.to(device)\n",
    "        y_true = y_true.to(device)\n",
    "        \n",
    "        _, y_prob = model(X.float())\n",
    "        _, labels = torch.max(y_prob, 1)\n",
    "        \n",
    "        total_preds += y_true.size(0)\n",
    "        correct_preds += (labels == y_true).sum()\n",
    "        \n",
    "    return correct_preds.float() / total_preds\n"
   ]
  },
  {
   "cell_type": "code",
   "execution_count": 32,
   "metadata": {},
   "outputs": [
    {
     "data": {
      "text/plain": [
       "[]"
      ]
     },
     "execution_count": 32,
     "metadata": {},
     "output_type": "execute_result"
    },
    {
     "data": {
      "image/png": "[encoded data removed]",
      "text/plain": [
       "<Figure size 432x288 with 1 Axes>"
      ]
     },
     "metadata": {
      "needs_background": "light"
     },
     "output_type": "display_data"
    }
   ],
   "source": [
    "plt.plot(train_losses, label = 'train')\n",
    "plt.plot(valid_losses, label = 'validation')\n",
    "plt.plot()"
   ]
  },
  {
   "cell_type": "code",
   "execution_count": 36,
   "metadata": {},
   "outputs": [],
   "source": [
    "acc = get_accuracy(model, valid_dataloader, DEVICE).item() * 100"
   ]
  },
  {
   "cell_type": "code",
   "execution_count": 37,
   "metadata": {},
   "outputs": [
    {
     "data": {
      "text/plain": [
       "97.47678637504578"
      ]
     },
     "execution_count": 37,
     "metadata": {},
     "output_type": "execute_result"
    }
   ],
   "source": [
    "acc"
   ]
  },
  {
   "cell_type": "code",
   "execution_count": 46,
   "metadata": {},
   "outputs": [
    {
     "data": {
      "text/plain": [
       "<matplotlib.image.AxesImage at 0x7ff698d5cfd0>"
      ]
     },
     "execution_count": 46,
     "metadata": {},
     "output_type": "execute_result"
    },
    {
     "data": {
      "image/png": "[encoded data removed]",
      "text/plain": [
       "<Figure size 432x288 with 1 Axes>"
      ]
     },
     "metadata": {
      "needs_background": "light"
     },
     "output_type": "display_data"
    }
   ],
   "source": [
    "first_X = X_train.iloc[0]\n",
    "img_x = pixel_row_to_array(first_X)\n",
    "plt.imshow(img_x)\n"
   ]
  },
  {
   "cell_type": "code",
   "execution_count": 44,
   "metadata": {},
   "outputs": [
    {
     "data": {
      "text/plain": [
       "pixel0      0\n",
       "pixel1      0\n",
       "pixel2      0\n",
       "pixel3      0\n",
       "pixel4      0\n",
       "           ..\n",
       "pixel779    0\n",
       "pixel780    0\n",
       "pixel781    0\n",
       "pixel782    0\n",
       "pixel783    0\n",
       "Name: 0, Length: 784, dtype: int64"
      ]
     },
     "execution_count": 44,
     "metadata": {},
     "output_type": "execute_result"
    }
   ],
   "source": [
    "first_X"
   ]
  },
  {
   "cell_type": "code",
   "execution_count": null,
   "metadata": {},
   "outputs": [],
   "source": []
  }
 ],
 "metadata": {
  "interpreter": {
   "hash": "eaa60619b03adf5438d7daf13e54fe984c270cfa24e5ed6e455b4d1740913ac3"
  },
  "kernelspec": {
   "display_name": "pytorch",
   "language": "python",
   "name": "pytorch"
  },
  "language_info": {
   "codemirror_mode": {
    "name": "ipython",
    "version": 3
   },
   "file_extension": ".py",
   "mimetype": "text/x-python",
   "name": "python",
   "nbconvert_exporter": "python",
   "pygments_lexer": "ipython3",
   "version": "3.9.7"
  }
 },
 "nbformat": 4,
 "nbformat_minor": 2
}
