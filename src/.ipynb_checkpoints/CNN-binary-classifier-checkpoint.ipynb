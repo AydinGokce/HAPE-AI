{
 "cells": [
  {
   "cell_type": "code",
   "execution_count": 1,
   "id": "eb2826eb",
   "metadata": {},
   "outputs": [],
   "source": [
    "import torch\n",
    "import torchvision\n",
    "from torch.utils.data import DataLoader, Dataset\n",
    "from torch import nn\n",
    "import cv2\n",
    "from torch.nn import functional as F\n",
    "import numpy as np\n",
    "import random\n",
    "import pandas as pd\n",
    "from matplotlib import pyplot as plt\n",
    "\n",
    "cuda = torch.device('cuda')"
   ]
  },
  {
   "cell_type": "code",
   "execution_count": 2,
   "id": "58af7b82",
   "metadata": {},
   "outputs": [],
   "source": [
    "def random_image_generator():\n",
    "    randlist = [-1] + [0] * 539 + [254] * 245\n",
    "    random.shuffle(randlist)\n",
    "    return randlist"
   ]
  },
  {
   "cell_type": "code",
   "execution_count": 3,
   "id": "6730b332",
   "metadata": {},
   "outputs": [],
   "source": [
    "train_dir = \"../dev-data/train.csv\"\n",
    "Xy_train = pd.read_csv(train_dir)\n",
    "\n",
    "num_chaotic_samples =  10000\n",
    "for i in range(num_chaotic_samples):\n",
    "    Xy_train.loc[len(Xy_train)] = random_image_generator()\n",
    "\n",
    "    \n",
    "Xy_train = Xy_train.sample(frac=1).reset_index(drop=True)\n",
    "    \n",
    "X_train = Xy_train.drop('label', axis = 1)\n",
    "\n",
    "\n",
    "\n",
    "closed_loops = [0, 6, 8, 9]\n",
    "y_train = Xy_train['label'].apply(lambda x: 1 if x in closed_loops else 0)\n"
   ]
  },
  {
   "cell_type": "code",
   "execution_count": 4,
   "id": "5f0d3d83",
   "metadata": {},
   "outputs": [],
   "source": [
    "def pixel_row_to_array(row):\n",
    "    return row.to_numpy().reshape(28, 28)\n",
    "\n",
    "class MNISTDataset(Dataset):\n",
    "    \n",
    "    #takes in df of images and labels\n",
    "    def __init__(self, df, labels = None, train = None, train_test_ratio = 0.1):\n",
    "        \n",
    "        self.df = df\n",
    "        self.train = train\n",
    "        self.labels = labels\n",
    "        \n",
    "        num_samples = len(self.df.index)\n",
    "        split_index = int(num_samples * train_test_ratio)\n",
    "        \n",
    "        \n",
    "        if self.train == True:\n",
    "            self.df = self.df.iloc[split_index:]\n",
    "            self.labels = self.labels.iloc[split_index:]\n",
    "            \n",
    "        elif self.train == False:\n",
    "            self.df = self.df.iloc[:split_index]\n",
    "            self.labels = self.labels.iloc[:split_index]\n",
    "        \n",
    "    def __len__(self):\n",
    "        return len(self.df.index)\n",
    "        \n",
    "    def __getitem__(self, index):\n",
    "        row = self.df.iloc[index]\n",
    "        image = pixel_row_to_array(row)\n",
    "        image = torch.from_numpy(image)\n",
    "        image = image.unsqueeze(0)\n",
    "        \n",
    "        label = 0\n",
    "        \n",
    "        if self.labels is not None:\n",
    "            label = self.labels.iloc[index]\n",
    "        \n",
    "        return image, label\n"
   ]
  },
  {
   "cell_type": "code",
   "execution_count": 5,
   "id": "110b06fa",
   "metadata": {},
   "outputs": [],
   "source": [
    "train_dataset = MNISTDataset(X_train, labels = y_train, train = True)\n",
    "train_dataloader = DataLoader(train_dataset, shuffle = True, batch_size = 4)\n",
    "\n",
    "valid_dataset = MNISTDataset(X_train, labels = y_train, train = False)\n",
    "valid_dataloader = DataLoader(valid_dataset, shuffle = True, batch_size = 4)"
   ]
  },
  {
   "cell_type": "code",
   "execution_count": 6,
   "id": "1588260e",
   "metadata": {},
   "outputs": [],
   "source": [
    "class LeNet5(nn.Module):\n",
    "    def __init__(self, num_classes = 2):\n",
    "        super().__init__()\n",
    "        \n",
    "        self.convlayers = nn.Sequential(\n",
    "            nn.Conv2d(in_channels = 1, out_channels = 6, kernel_size = 5, stride = 1),\n",
    "            nn.Tanh(),\n",
    "            nn.AvgPool2d(kernel_size = 2),\n",
    "            nn.Conv2d(in_channels = 6, out_channels = 16, kernel_size = 3, stride = 1),\n",
    "            nn.Tanh(),\n",
    "            nn.AvgPool2d(kernel_size = 2),\n",
    "            nn.Conv2d(in_channels = 16, out_channels = 120, kernel_size = 3, stride = 1),\n",
    "            nn.Tanh()\n",
    "        )\n",
    "        \n",
    "        self.linearlayers = nn.Sequential(\n",
    "            nn.Linear(in_features = 1080, out_features = 84),\n",
    "            nn.Tanh(),\n",
    "            nn.Linear(in_features = 84, out_features = 10),\n",
    "            nn.Tanh(),\n",
    "            nn.Linear(in_features = 10, out_features = num_classes)\n",
    "        )\n",
    "        \n",
    "    def forward(self, x):\n",
    "        x = self.convlayers(x)\n",
    "        x = torch.flatten(x, 1)\n",
    "        logits = self.linearlayers(x)\n",
    "        probs = F.softmax(logits, dim = 1)\n",
    "        return logits, probs"
   ]
  },
  {
   "cell_type": "code",
   "execution_count": 7,
   "id": "a9f4f0d1",
   "metadata": {},
   "outputs": [],
   "source": [
    "def train(model, train_loader, optimizer, criterion, device):\n",
    "    \n",
    "    running_loss = 0.0\n",
    "    model.train()\n",
    "    \n",
    "    for X, y in train_loader:\n",
    "        \n",
    "        optimizer.zero_grad()\n",
    "        \n",
    "        X = X.to(device)\n",
    "        y = y.to(device)\n",
    "        \n",
    "        outputs, _ = model(X.float())\n",
    "        loss = criterion(outputs, y)\n",
    "        loss_item = loss.item()\n",
    "        \n",
    "        running_loss += loss_item * X.shape[0]\n",
    "        \n",
    "        loss.backward()\n",
    "        optimizer.step()\n",
    "        \n",
    "    epoch_loss = running_loss / len(train_loader.dataset)\n",
    "    return model, optimizer, epoch_loss\n",
    "        \n",
    "        \n",
    "def validate(model, valid_loader, criterion, device):\n",
    "    \n",
    "    running_loss = 0.0\n",
    "    model.eval()\n",
    "    \n",
    "    for X, y in valid_loader:\n",
    "        \n",
    "        X = X.to(device)\n",
    "        y = y.to(device)\n",
    "        \n",
    "        outputs, _ = model(X.float())\n",
    "        loss = criterion(outputs, y)\n",
    "        running_loss += loss.item() * X.shape[0]\n",
    "        \n",
    "        \n",
    "    epoch_loss = running_loss / len(valid_loader.dataset)\n",
    "    return model, epoch_loss"
   ]
  },
  {
   "cell_type": "code",
   "execution_count": 8,
   "id": "4579f168",
   "metadata": {},
   "outputs": [],
   "source": [
    "def training_loop(model, optimizer, criterion, num_epochs, device, train_loader, valid_loader, print_every = 1):\n",
    "    \n",
    "    train_losses = []\n",
    "    valid_losses = []\n",
    "    \n",
    "    for epoch in range(num_epochs):\n",
    "        \n",
    "        \n",
    "        model, optimizer, train_loss = train(model,\n",
    "                                            train_loader,\n",
    "                                            optimizer, \n",
    "                                            criterion,\n",
    "                                            device)\n",
    "        \n",
    "        model, valid_loss = validate(model,\n",
    "                                valid_loader,\n",
    "                                criterion,\n",
    "                                device)\n",
    "        \n",
    "        print(\"completed epoch \" + str(epoch))\n",
    "    \n",
    "        train_losses.append(train_loss)\n",
    "        valid_losses.append(valid_loss)\n",
    "        \n",
    "    return model, optimizer, train_losses, valid_losses\n",
    "    "
   ]
  },
  {
   "cell_type": "code",
   "execution_count": 9,
   "id": "1083dd46",
   "metadata": {},
   "outputs": [
    {
     "name": "stdout",
     "output_type": "stream",
     "text": [
      "completed epoch 0\n",
      "completed epoch 1\n",
      "completed epoch 2\n",
      "completed epoch 3\n",
      "completed epoch 4\n",
      "completed epoch 5\n",
      "completed epoch 6\n",
      "completed epoch 7\n",
      "completed epoch 8\n",
      "completed epoch 9\n"
     ]
    }
   ],
   "source": [
    "DEVICE = torch.device('cuda') if torch.cuda.is_available() else 'cpu'\n",
    "LEARNING_RATE = 0.001\n",
    "NUM_EPOCHS = 10\n",
    "model = LeNet5().to(DEVICE)\n",
    "optimizer = torch.optim.Adam(model.parameters(), lr = LEARNING_RATE)\n",
    "criterion = nn.CrossEntropyLoss()\n",
    "\n",
    "model, optimizer, train_losses, valid_losses = training_loop(model,\n",
    "                                                             optimizer,\n",
    "                                                             criterion,\n",
    "                                                             NUM_EPOCHS,\n",
    "                                                             DEVICE,\n",
    "                                                             train_dataloader,\n",
    "                                                             valid_dataloader)"
   ]
  },
  {
   "cell_type": "code",
   "execution_count": null,
   "id": "85311593",
   "metadata": {},
   "outputs": [],
   "source": []
  },
  {
   "cell_type": "code",
   "execution_count": 10,
   "id": "3fd78879",
   "metadata": {},
   "outputs": [
    {
     "data": {
      "image/png": "[encoded data removed]",
      "text/plain": [
       "<Figure size 432x288 with 1 Axes>"
      ]
     },
     "metadata": {
      "needs_background": "light"
     },
     "output_type": "display_data"
    }
   ],
   "source": [
    "plt.plot(train_losses, label = 'train')\n",
    "plt.plot(valid_losses, label = 'validation')\n",
    "plt.xlabel(\"# epoch\")\n",
    "plt.ylabel('loss')\n",
    "plt.legend()\n",
    "plt.show()"
   ]
  },
  {
   "cell_type": "code",
   "execution_count": 11,
   "id": "23f68192",
   "metadata": {},
   "outputs": [],
   "source": [
    "def get_accuracy(model, test_loader, device):\n",
    "    \n",
    "    correct_preds = 0 \n",
    "    total_preds = 0\n",
    "    \n",
    "    with torch.no_grad():\n",
    "        model.eval()\n",
    "        \n",
    "        for X, y_true in test_loader:\n",
    "\n",
    "            X = X.to(device)\n",
    "            y_true = y_true.to(device)\n",
    "\n",
    "            _, y_prob = model(X.float())\n",
    "            _, labels = torch.max(y_prob, 1)\n",
    "\n",
    "            total_preds += y_true.size(0)\n",
    "            correct_preds += (labels == y_true).sum()\n",
    "\n",
    "    return correct_preds.float() / total_preds"
   ]
  },
  {
   "cell_type": "code",
   "execution_count": 12,
   "id": "477b5838",
   "metadata": {},
   "outputs": [
    {
     "name": "stdout",
     "output_type": "stream",
     "text": [
      "accuracy: 92%\n"
     ]
    }
   ],
   "source": [
    "print(str(\"accuracy: \" + str(get_accuracy(model, valid_dataloader, DEVICE).item() * 100)[:2] + \"%\"))"
   ]
  },
  {
   "cell_type": "code",
   "execution_count": 18,
   "id": "d47eca56",
   "metadata": {},
   "outputs": [
    {
     "data": {
      "text/plain": [
       "<matplotlib.image.AxesImage at 0x7fb6e87da9a0>"
      ]
     },
     "execution_count": 18,
     "metadata": {},
     "output_type": "execute_result"
    },
    {
     "data": {
      "image/png": "[encoded data removed]",
      "text/plain": [
       "<Figure size 432x288 with 1 Axes>"
      ]
     },
     "metadata": {
      "needs_background": "light"
     },
     "output_type": "display_data"
    }
   ],
   "source": [
    "randlist = [[0] * 539 + [254] * 245] * 4\n",
    "for i in randlist: random.shuffle(i)\n",
    "random_image = np.reshape(np.array(randlist), (4, 1, 28, 28))\n",
    "plt.imshow(np.reshape(random_image[2], (28, 28)))"
   ]
  },
  {
   "cell_type": "code",
   "execution_count": 40,
   "id": "380bff90",
   "metadata": {},
   "outputs": [],
   "source": [
    "def flipPairs(arr, num_pairs = 5):\n",
    "    new_arr = np.reshape(arr[1], (1, 784))\n",
    "    randOptions = range(0, 783)\n",
    "\n",
    "    pairs = [random.sample(randOptions, 5), random.sample(randOptions, 5)]\n",
    "            \n",
    "    for pair in pairs:\n",
    "        \n",
    "        x1 = pair[0]\n",
    "        x2 = pair[1]\n",
    "        \n",
    "        tempval = new_arr[0, x1]\n",
    "        new_arr[0, x1] = new_arr[0, x2]\n",
    "        new_arr[0, x2] = tempval\n",
    "        \n",
    "    \n",
    "    new_arr = np.tile(np.reshape(arr, (1, 1, 28, 28)), (4, 1, 1, 1))\n",
    "    return new_arr"
   ]
  },
  {
   "cell_type": "code",
   "execution_count": 41,
   "id": "b371208f",
   "metadata": {},
   "outputs": [
    {
     "data": {
      "text/plain": [
       "(4, 1, 28, 28)"
      ]
     },
     "execution_count": 41,
     "metadata": {},
     "output_type": "execute_result"
    }
   ],
   "source": [
    "flipPairs(random_image).shape"
   ]
  },
  {
   "cell_type": "code",
   "execution_count": 42,
   "id": "a944c495",
   "metadata": {},
   "outputs": [],
   "source": [
    "(outputs, confidence) = model(torch.tensor(random_image).to(DEVICE).float())"
   ]
  },
  {
   "cell_type": "code",
   "execution_count": 43,
   "id": "ff4b05d1",
   "metadata": {},
   "outputs": [
    {
     "data": {
      "text/plain": [
       "0.32218021154403687"
      ]
     },
     "execution_count": 43,
     "metadata": {},
     "output_type": "execute_result"
    }
   ],
   "source": [
    "model(torch.tensor(random_image).to(DEVICE).float())[1][1][0].item()"
   ]
  },
  {
   "cell_type": "code",
   "execution_count": 44,
   "id": "01162505",
   "metadata": {},
   "outputs": [],
   "source": [
    "def evaluate(arr):\n",
    "    item = model(torch.tensor(arr).to(DEVICE).float())[1][1][0].item()\n",
    "    return item"
   ]
  },
  {
   "cell_type": "code",
   "execution_count": 69,
   "id": "268ba54c",
   "metadata": {},
   "outputs": [
    {
     "name": "stdout",
     "output_type": "stream",
     "text": [
      "iteration 4999 of 5000\r"
     ]
    }
   ],
   "source": [
    "num_switches = 5000\n",
    "for i in range(num_switches):\n",
    "    print('iteration ' + str(i) + ' of ' + str(num_switches), end = '\\r')\n",
    "    new_random_image = flipPairs(random_image, num_pairs = 1)\n",
    "    old_score = evaluate(random_image)\n",
    "    new_score = evaluate(new_random_image)\n",
    "    if(new_score > old_score):\n",
    "        random_image = new_random_image\n",
    "    else:\n",
    "        pass"
   ]
  },
  {
   "cell_type": "code",
   "execution_count": null,
   "id": "59985b64",
   "metadata": {},
   "outputs": [],
   "source": []
  },
  {
   "cell_type": "code",
   "execution_count": 61,
   "id": "c587942d",
   "metadata": {},
   "outputs": [
    {
     "data": {
      "text/plain": [
       "<matplotlib.image.AxesImage at 0x7fb6cd21f8e0>"
      ]
     },
     "execution_count": 61,
     "metadata": {},
     "output_type": "execute_result"
    },
    {
     "data": {
      "image/png": "[encoded data removed]",
      "text/plain": [
       "<Figure size 432x288 with 1 Axes>"
      ]
     },
     "metadata": {
      "needs_background": "light"
     },
     "output_type": "display_data"
    }
   ],
   "source": [
    "a = np.squeeze(random_image[1])\n",
    "plt.imshow(a)\n",
    "#iteration 1000"
   ]
  },
  {
   "cell_type": "code",
   "execution_count": 63,
   "id": "8fb4b2b4",
   "metadata": {},
   "outputs": [
    {
     "data": {
      "text/plain": [
       "<matplotlib.image.AxesImage at 0x7fb6cd1fea90>"
      ]
     },
     "execution_count": 63,
     "metadata": {},
     "output_type": "execute_result"
    },
    {
     "data": {
      "image/png": "[encoded data removed]",
      "text/plain": [
       "<Figure size 432x288 with 1 Axes>"
      ]
     },
     "metadata": {
      "needs_background": "light"
     },
     "output_type": "display_data"
    }
   ],
   "source": [
    "a = np.squeeze(random_image[1])\n",
    "plt.imshow(a)\n",
    "#iteration 10000"
   ]
  },
  {
   "cell_type": "code",
   "execution_count": 68,
   "id": "dff8af73",
   "metadata": {},
   "outputs": [
    {
     "data": {
      "text/plain": [
       "0.3228822946548462"
      ]
     },
     "execution_count": 68,
     "metadata": {},
     "output_type": "execute_result"
    }
   ],
   "source": [
    "evaluate(random_image)"
   ]
  },
  {
   "cell_type": "code",
   "execution_count": null,
   "id": "83c21a66",
   "metadata": {},
   "outputs": [],
   "source": [
    "'''def complete_preds(model, test_dataloader, device):\n",
    "    \n",
    "    df = pd.DataFrame(columns = [\"ImageId\", \"Label\"])\n",
    "    \n",
    "    ImageId = 1\n",
    "    \n",
    "    with torch.no_grad():\n",
    "        model.eval()\n",
    "        for X, _ in test_dataloader:\n",
    "            \n",
    "            X = X.to(device)\n",
    "            _, probs = model(X.float())\n",
    "            _, predicted_labels = torch.max(probs, 1)\n",
    "            \n",
    "            for label in predicted_labels:\n",
    "                label = label.item()\n",
    "                \n",
    "                #append prediction and imageid to dataframe\n",
    "                df = df.append({\"ImageId\" : ImageId, \"Label\" : label}, ignore_index = True)\n",
    "                \n",
    "                ImageId += 1\n",
    "                \n",
    "    return df\n",
    "\n",
    "\n",
    "test_csv = pd.read_csv('../dev-data/test.csv')\n",
    "test_dataset = MNISTDataset(test_csv, labels = None)\n",
    "test_dataloader = DataLoader(test_dataset, batch_size = 4)\n",
    "\n",
    "predictions = complete_preds(model, test_dataloader, DEVICE)\n",
    "predictions.to_csv(\"../dev-data/predictions.csv\", index = False)'''"
   ]
  },
  {
   "cell_type": "code",
   "execution_count": null,
   "id": "b171565f",
   "metadata": {},
   "outputs": [],
   "source": [
    "plt.table(cellText = [5, 5])"
   ]
  }
 ],
 "metadata": {
  "kernelspec": {
   "display_name": "pytorch",
   "language": "python",
   "name": "pytorch"
  },
  "language_info": {
   "codemirror_mode": {
    "name": "ipython",
    "version": 3
   },
   "file_extension": ".py",
   "mimetype": "text/x-python",
   "name": "python",
   "nbconvert_exporter": "python",
   "pygments_lexer": "ipython3",
   "version": "3.9.7"
  }
 },
 "nbformat": 4,
 "nbformat_minor": 5
}
